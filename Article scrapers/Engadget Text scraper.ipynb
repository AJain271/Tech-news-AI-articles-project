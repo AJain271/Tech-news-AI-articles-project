{
 "cells": [
  {
   "cell_type": "code",
   "execution_count": null,
   "metadata": {},
   "outputs": [],
   "source": [
    "from bs4 import BeautifulSoup\n",
    "import requests\n",
    "import os.path\n",
    "from htmldate import find_date\n",
    "import pandas as pd\n",
    "def scrape(url):\n",
    "    try:\n",
    "        response = requests.get(url)\n",
    "    except Exception:\n",
    "        return \"DELETE\"\n",
    "    html_content = response.text\n",
    "    soup = BeautifulSoup(html_content, 'lxml')  # You can also use 'html.parser'\n",
    "    #paragraphs = soup.find_all(\"div\",{\"class\":\"caas-body\"})\n",
    "    paragraphs = soup.find_all(\"p\")\n",
    "    removeList = [\"Engadget has been testing and reviewing consumer tech since 2004. Our stories may include affiliate links; if you buy something through a link, we may earn a commission. Read more about how we evaluate products.\",\n",
    "                  \"Subscribe to our two newsletters: - A weekly roundup of our favorite tech deals - A daily dose of the news you need Please enter a valid email address Please select a newsletter By subscribing, you are agreeing to Engadget's Terms and Privacy Policy.\"]\n",
    "    textOut = \"\"\n",
    "    remove = soup.find_all(\"p\",{\"class\":\"M(0) C($summaryColor) Fz(14px) Lh(1.43em) LineClamp(3,60px)\"})\n",
    "        \n",
    "    for r in remove:\n",
    "        removeList.append(r.get_text())\n",
    "    timeStamp = \"\"\n",
    "    try:\n",
    "        timeStamp = find_date(url)\n",
    "        year = timeStamp.split(\"-\")[0]\n",
    "        month = timeStamp.split(\"-\")[1]\n",
    "        day = timeStamp.split(\"-\")[2]\n",
    "    except Exception:\n",
    "        year = \"check\"\n",
    "        month = \"check\"\n",
    "        day = \"check\"\n",
    "\n",
    "    for p in paragraphs: #Not necessary\n",
    "        \n",
    "        text = p.get_text().replace(\"\\n\",\"\").strip() \n",
    "        if text != \"\":\n",
    "            textOut+= \" \" + text\n",
    "            \n",
    "    textOut = textOut.replace(\"\\xa0\",\" \")\n",
    "    for r in removeList:\n",
    "        textOut = textOut.replace(r,\"\")\n",
    "    length = 0\n",
    "    if textOut == \"\":\n",
    "        return \"DELETE\"\n",
    "    else:\n",
    "        length = len(textOut.split())\n",
    "        \n",
    "        return [url,\"Wired\",year,month,day,length,textOut]\n",
    "\n",
    "df = []\n",
    "scrape(\"https://www.engadget.com/googles-project-astra-uses-your-phones-camera-and-ai-to-find-noise-makers-misplaced-items-and-more-172642329.html\")"
   ]
  }
 ],
 "metadata": {
  "kernelspec": {
   "display_name": "Python 3",
   "language": "python",
   "name": "python3"
  },
  "language_info": {
   "codemirror_mode": {
    "name": "ipython",
    "version": 3
   },
   "file_extension": ".py",
   "mimetype": "text/x-python",
   "name": "python",
   "nbconvert_exporter": "python",
   "pygments_lexer": "ipython3",
   "version": "3.11.9"
  }
 },
 "nbformat": 4,
 "nbformat_minor": 2
}
