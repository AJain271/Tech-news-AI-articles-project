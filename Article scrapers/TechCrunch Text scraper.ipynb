{
 "cells": [
  {
   "cell_type": "code",
   "execution_count": null,
   "metadata": {},
   "outputs": [],
   "source": [
    "from bs4 import BeautifulSoup\n",
    "import requests\n",
    "import os.path\n",
    "from htmldate import find_date\n",
    "import pandas as pd\n",
    "def scrape(url):\n",
    "    try:\n",
    "        response = requests.get(url)\n",
    "    except Exception:\n",
    "        return \"DELETE\"\n",
    "    html_content = response.text\n",
    "    soup = BeautifulSoup(html_content, 'lxml')  # You can also use 'html.parser'\n",
    "    paragraphs = soup.find_all(\"p\")\n",
    "    textOut = \"\"\n",
    "    timeStamp = \"\"\n",
    "    try:\n",
    "        timeStamp = find_date(url)\n",
    "        year = timeStamp.split(\"-\")[0]\n",
    "        month = timeStamp.split(\"-\")[1]\n",
    "        day = timeStamp.split(\"-\")[2]\n",
    "    except Exception:\n",
    "        year = \"check\"\n",
    "        month = \"check\"\n",
    "        day = \"check\"\n",
    "    textList = []\n",
    "    comment = False\n",
    "    remove = soup.find_all(\"iframe\",{\"class\":\"wp-embedded-content\"})\n",
    "    removeList = [0]*len(remove)\n",
    "    for k in range(0,len(remove)):\n",
    "        removeList[k] = str(remove[k]).split(' title=\"“')[1].split('”')[0]\n",
    "    for p in paragraphs:\n",
    "        sk = False\n",
    "        text = p.get_text().replace(\"\\n\",\"\").strip()\n",
    "\n",
    "        if text == \"Every weekday and Sunday, you can get the best of TechCrunch’s coverage.\":\n",
    "            break\n",
    "        for k in removeList:\n",
    "            if k== text:\n",
    "                sk = True\n",
    "        if text != \"\" and sk == False :\n",
    "            textList.append(text)\n",
    "    for item in textList:\n",
    "        if item == \"Comment\":\n",
    "            comment = True\n",
    "            continue\n",
    "        if comment == True and item[-1] in '!.?”:)\"':\n",
    "            textOut+= \" \" + item\n",
    "    if textOut == \"\":\n",
    "        return \"DELETE\"\n",
    "    else:\n",
    "        return [url,\"Techcrunch\",year,month,day,textOut]\n",
    "\n"
   ]
  }
 ],
 "metadata": {
  "kernelspec": {
   "display_name": "Python 3",
   "language": "python",
   "name": "python3"
  },
  "language_info": {
   "codemirror_mode": {
    "name": "ipython",
    "version": 3
   },
   "file_extension": ".py",
   "mimetype": "text/x-python",
   "name": "python",
   "nbconvert_exporter": "python",
   "pygments_lexer": "ipython3",
   "version": "3.11.9"
  }
 },
 "nbformat": 4,
 "nbformat_minor": 2
}
