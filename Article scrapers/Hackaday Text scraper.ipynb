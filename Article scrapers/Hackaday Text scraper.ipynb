{
 "cells": [
  {
   "cell_type": "code",
   "execution_count": null,
   "metadata": {},
   "outputs": [],
   "source": [
    "from bs4 import BeautifulSoup\n",
    "import requests\n",
    "import os.path\n",
    "from htmldate import find_date\n",
    "import pandas as pd\n",
    "def scrape(url):\n",
    "    try:\n",
    "        response = requests.get(url)\n",
    "    except Exception:\n",
    "        return \"DELETE\"\n",
    "    html_content = response.text\n",
    "    soup = BeautifulSoup(html_content, 'lxml')  # You can also use 'html.parser'\n",
    "    bodyContent = soup.find_all(\"div\",{\"itemprop\":\"articleBody\"})\n",
    "    \n",
    "    textOut = \"\"\n",
    "    timeStamp = \"\"\n",
    "    try:\n",
    "        timeStamp = find_date(url)\n",
    "        year = timeStamp.split(\"-\")[0]\n",
    "        month = timeStamp.split(\"-\")[1]\n",
    "        day = timeStamp.split(\"-\")[2]\n",
    "    except Exception:\n",
    "        year = \"check\"\n",
    "        month = \"check\"\n",
    "        day = \"check\"\n",
    "    \n",
    "\n",
    "    \n",
    "    \n",
    "    removeList = [\"Want this type of article to hit your inbox every Friday morning? You should sign up!\"]  \n",
    "    if len(bodyContent) == 1:\n",
    "            bodyContent = bodyContent[0].get_text().strip().split(\"\\n\")\n",
    "    else:\n",
    "        for b in bodyContent:\n",
    "            bodyContent.append(b.get_text().strip())\n",
    "    for text in bodyContent:\n",
    "        \n",
    "        if text != \"\" and text[-1] in '!.?:”\"' and text not in removeList: #this varies between websites since some write in a more academic manner\n",
    "           textOut+= \" \" + text\n",
    "    length = 0\n",
    "    if textOut == \"\":\n",
    "        return \"DELETE\"\n",
    "    else:\n",
    "        length = len(textOut.split())\n",
    "        return [url,\"Hackaday\",year,month,day,length,textOut]\n",
    "df = []"
   ]
  }
 ],
 "metadata": {
  "kernelspec": {
   "display_name": "Python 3",
   "language": "python",
   "name": "python3"
  },
  "language_info": {
   "codemirror_mode": {
    "name": "ipython",
    "version": 3
   },
   "file_extension": ".py",
   "mimetype": "text/x-python",
   "name": "python",
   "nbconvert_exporter": "python",
   "pygments_lexer": "ipython3",
   "version": "3.11.9"
  }
 },
 "nbformat": 4,
 "nbformat_minor": 2
}
