{
 "cells": [
  {
   "cell_type": "code",
   "execution_count": null,
   "metadata": {},
   "outputs": [],
   "source": [
    "import requests\n",
    "from bs4 import BeautifulSoup\n",
    "def scrape(url,page):\n",
    "    response = requests.get(url)\n",
    "    soup = BeautifulSoup(response.text,'lxml')\n",
    "    urls = soup.find_all(\"a\")\n",
    "    urlList = []\n",
    "    go= False\n",
    "    target =1\n",
    "    ignoreList = [\"author\",\"video\",\"category\",\"podcast\",\"tag\",\"events\"]\n",
    "    for url in urls:\n",
    "        if url[\"href\"] == \"/contact-us/\":\n",
    "            go = True\n",
    "            continue\n",
    "        if go == True:\n",
    "            if url[\"href\"].split(\"https://techcrunch.com/\")[1].split(\"/\")[0] not in ignoreList:\n",
    "                urlList.append(url[\"href\"])\n",
    "            if url[\"href\"] == \"https://techcrunch.com/category/artificial-intelligence/page/\"+str(page+1)+\"/\":\n",
    "                break\n",
    "    completedList = []\n",
    "    for i in range(0,len(urlList),2):\n",
    "        completedList.append(urlList[i])\n",
    "    return completedList\n",
    "outList = []\n",
    "counter = 0\n",
    "for i in range(1,316):\n",
    "    url = \"https://techcrunch.com/category/artificial-intelligence/page/\"+str(i)\n",
    "    output = scrape(url,i)\n",
    "    outList.extend(output)\n",
    "    print(i,len(output))\n",
    "print(outList)\n",
    "print(counter)"
   ]
  }
 ],
 "metadata": {
  "kernelspec": {
   "display_name": "Python 3",
   "language": "python",
   "name": "python3"
  },
  "language_info": {
   "codemirror_mode": {
    "name": "ipython",
    "version": 3
   },
   "file_extension": ".py",
   "mimetype": "text/x-python",
   "name": "python",
   "nbconvert_exporter": "python",
   "pygments_lexer": "ipython3",
   "version": "3.11.9"
  }
 },
 "nbformat": 4,
 "nbformat_minor": 2
}
