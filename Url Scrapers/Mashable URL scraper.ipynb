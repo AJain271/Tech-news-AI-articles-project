{
 "cells": [
  {
   "cell_type": "code",
   "execution_count": null,
   "metadata": {},
   "outputs": [],
   "source": [
    "import requests\n",
    "from bs4 import BeautifulSoup\n",
    "urlList = []\n",
    "list = []\n",
    "for i in range(1,73):\n",
    "    \n",
    "    url = \"https://mashable.com/category/artificial-intelligence?page=\"+str(i)\n",
    "    response = requests.get(url)\n",
    "    soup = BeautifulSoup(response.text,'html.parser')\n",
    "    urls = soup.find_all(\"a\")\n",
    "    currentList = []\n",
    "    tempList = []\n",
    "    go = False\n",
    "    for url in urls:\n",
    "        try:\n",
    "            line = url[\"href\"]\n",
    "            if (line ==\"/article/whatsapp-ai-avatar-image-generator-imagine\" and i==1) or (line ==\"/article/google-gemini-privacy-concerns\" and i>1) :\n",
    "                go = True\n",
    "                continue\n",
    "            if (line==\"https://mashable.com/category/artificial-intelligence?page=\"+str(i+1)):\n",
    "                break\n",
    "            if go == True and line.split(\"/\")[1] == \"article\":\n",
    "                tempList.append(\"https://mashable.com\"+line)\n",
    "                #print(\"https://mashable.com\"+line)\n",
    "            if line.split(\"/\")[1] not in list:\n",
    "                list.append(line.split(\"/\")[1])\n",
    "        except Exception:\n",
    "            continue\n",
    "    for k in range(0,len(tempList),2):\n",
    "        #print(tempList[k])\n",
    "        currentList.append(tempList[k])\n",
    "    urlList.extend(currentList)\n",
    "    print(i,len(currentList))\n",
    "print(list)\n"
   ]
  }
 ],
 "metadata": {
  "kernelspec": {
   "display_name": "Python 3",
   "language": "python",
   "name": "python3"
  },
  "language_info": {
   "codemirror_mode": {
    "name": "ipython",
    "version": 3
   },
   "file_extension": ".py",
   "mimetype": "text/x-python",
   "name": "python",
   "nbconvert_exporter": "python",
   "pygments_lexer": "ipython3",
   "version": "3.11.9"
  }
 },
 "nbformat": 4,
 "nbformat_minor": 2
}
