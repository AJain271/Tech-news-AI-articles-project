{
 "cells": [
  {
   "cell_type": "code",
   "execution_count": null,
   "metadata": {},
   "outputs": [],
   "source": [
    "import requests\n",
    "from bs4 import BeautifulSoup\n",
    "urlList = []\n",
    "for i in range(1,99):\n",
    "    \n",
    "    url = \"https://www.wired.com/tag/artificial-intelligence/?page=\"+str(i)\n",
    "    response = requests.get(url)\n",
    "    soup = BeautifulSoup(response.text,'html.parser')\n",
    "    urls = soup.find_all(\"a\")\n",
    "\n",
    "    currentList = []\n",
    "    go = False\n",
    "    for url in urls:\n",
    "        try:\n",
    "            line = url[\"href\"]\n",
    "            if line ==\"https://www.wired.com/coupons\":\n",
    "                go = True\n",
    "                continue\n",
    "            if line==\"https://www.wired.com/story/priscila-queen-of-the-rideshare-mafia/#intcid=_wired-tag-right-rail_532e33c5-de2a-46cf-953e-599896891371_popular4-1\":\n",
    "                del currentList[-1]\n",
    "                break\n",
    "            if go == True:\n",
    "                currentList.append(\"https://www.wired.com\"+line)\n",
    "        except Exception:\n",
    "            continue\n",
    "    urlList.extend(currentList)\n",
    "    print(i,len(currentList))\n",
    "\n"
   ]
  }
 ],
 "metadata": {
  "kernelspec": {
   "display_name": "Python 3",
   "language": "python",
   "name": "python3"
  },
  "language_info": {
   "codemirror_mode": {
    "name": "ipython",
    "version": 3
   },
   "file_extension": ".py",
   "mimetype": "text/x-python",
   "name": "python",
   "nbconvert_exporter": "python",
   "pygments_lexer": "ipython3",
   "version": "3.11.9"
  }
 },
 "nbformat": 4,
 "nbformat_minor": 2
}
