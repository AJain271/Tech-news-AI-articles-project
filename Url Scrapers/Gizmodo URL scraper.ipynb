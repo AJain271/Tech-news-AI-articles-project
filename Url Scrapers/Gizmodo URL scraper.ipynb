{
 "cells": [
  {
   "cell_type": "code",
   "execution_count": null,
   "metadata": {},
   "outputs": [],
   "source": [
    "import requests\n",
    "from bs4 import BeautifulSoup\n",
    "urlList = []\n",
    "\n",
    "#Note that i=34 has some repeats which were then manually removed\n",
    "for i in range(1,52):\n",
    "    \n",
    "    url = \"https://gizmodo.com/tech/artificial-intelligence/page/\"+str(i)\n",
    "    response = requests.get(url)\n",
    "    soup = BeautifulSoup(response.text,'html.parser')\n",
    "    urls = soup.find_all(\"a\")\n",
    "    currentList = []\n",
    "    tempList = []\n",
    "    go = False\n",
    "    for url in urls:\n",
    "        try:\n",
    "            line = url[\"href\"]\n",
    "            \n",
    "            if line ==\"#\":\n",
    "                go = True\n",
    "                continue\n",
    "            if line==\"https://gizmodo.com/tech/artificial-intelligence/page/\"+str(i+1):\n",
    "                break\n",
    "            if go == True and line.split(\"https://gizmodo.com/\")[1].split(\"/\")[0]!=\"author\" and \"/page/\" not in line and line != \"https://gizmodo.com/tech/artificial-intelligence/\":\n",
    "    \n",
    "                currentList.append(line)\n",
    "\n",
    "        except Exception:\n",
    "            continue\n",
    "    skip = 0\n",
    "    if i<35:\n",
    "        skip =2\n",
    "    else:\n",
    "        skip =3\n",
    "    for k in range(0,len(currentList),skip):\n",
    "        tempList.append(currentList[k]) \n",
    "    \n",
    "    urlList.extend(tempList)\n",
    "    print(i,len(tempList))\n",
    "print(urlList)\n",
    "\n"
   ]
  }
 ],
 "metadata": {
  "kernelspec": {
   "display_name": "Python 3",
   "language": "python",
   "name": "python3"
  },
  "language_info": {
   "codemirror_mode": {
    "name": "ipython",
    "version": 3
   },
   "file_extension": ".py",
   "mimetype": "text/x-python",
   "name": "python",
   "nbconvert_exporter": "python",
   "pygments_lexer": "ipython3",
   "version": "3.11.9"
  }
 },
 "nbformat": 4,
 "nbformat_minor": 2
}
