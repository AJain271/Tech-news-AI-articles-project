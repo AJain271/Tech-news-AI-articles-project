{
 "cells": [
  {
   "cell_type": "code",
   "execution_count": null,
   "metadata": {},
   "outputs": [],
   "source": [
    "import requests\n",
    "from bs4 import BeautifulSoup\n",
    "urlList = []\n",
    "file = open(\"FILE LOCATION HERE\") #Have to edit this if you want to run code\n",
    "htmlText = file.read()\n",
    "soup = BeautifulSoup(htmlText,'html.parser')\n",
    "urls = soup.find_all(\"a\")\n",
    "go = False\n",
    "counter = 0\n",
    "for url in urls:\n",
    "    try:\n",
    "        line = url[\"href\"]\n",
    "        if line == \"/news/politics/how-the-rise-of-artificial-intelligence-could-rock-the-vote/\":\n",
    "            go = True\n",
    "            continue\n",
    "        if go==True and line ==\"/deals/\":\n",
    "            break\n",
    "        if go == True and line[0]==\"/\" and line.split(\"/\")[1]!=\"videos\" and line!=\"/\":\n",
    "            urlList.append(\"https://www.cnet.com\"+line)\n",
    "    except Exception:\n",
    "        continue"
   ]
  }
 ],
 "metadata": {
  "kernelspec": {
   "display_name": "Python 3",
   "language": "python",
   "name": "python3"
  },
  "language_info": {
   "codemirror_mode": {
    "name": "ipython",
    "version": 3
   },
   "file_extension": ".py",
   "mimetype": "text/x-python",
   "name": "python",
   "nbconvert_exporter": "python",
   "pygments_lexer": "ipython3",
   "version": "3.11.9"
  }
 },
 "nbformat": 4,
 "nbformat_minor": 2
}
