{
 "cells": [
  {
   "cell_type": "code",
   "execution_count": null,
   "metadata": {},
   "outputs": [],
   "source": [
    "import requests\n",
    "from bs4 import BeautifulSoup\n",
    "urlList = []\n",
    "file = open(\"FILE LOCATION HERE\") #Have to edit this if you want to run code\n",
    "htmlText = file.read()\n",
    "soup = BeautifulSoup(htmlText,'html.parser')\n",
    "urls = soup.find_all(\"a\")\n",
    "go = False\n",
    "currentList = []\n",
    "for url in urls:\n",
    "    try:\n",
    "        line= url[\"href\"]\n",
    "    \n",
    "        if line==\"https://spectrum.ieee.org/collections/climate-change/\":\n",
    "            go = True\n",
    "            continue\n",
    "        if go==True and \"https://spectrum.ieee.org\" in line and \"/topic/\" not in line and \"/magazine/\" not in line and \"/type/\" not in line and \"/special-reports/\" not in line and \"/collections/\" not in line:\n",
    "            currentList.append(line)\n",
    "            \n",
    "    except Exception:\n",
    "        continue\n",
    "for k in range(0,len(currentList),2):\n",
    "    print(currentList[k])\n",
    "   "
   ]
  }
 ],
 "metadata": {
  "kernelspec": {
   "display_name": "Python 3",
   "language": "python",
   "name": "python3"
  },
  "language_info": {
   "codemirror_mode": {
    "name": "ipython",
    "version": 3
   },
   "file_extension": ".py",
   "mimetype": "text/x-python",
   "name": "python",
   "nbconvert_exporter": "python",
   "pygments_lexer": "ipython3",
   "version": "3.11.9"
  }
 },
 "nbformat": 4,
 "nbformat_minor": 2
}
