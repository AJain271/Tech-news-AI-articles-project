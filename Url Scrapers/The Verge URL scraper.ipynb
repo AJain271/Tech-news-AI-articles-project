{
 "cells": [
  {
   "cell_type": "code",
   "execution_count": null,
   "metadata": {},
   "outputs": [],
   "source": [
    "import requests\n",
    "from bs4 import BeautifulSoup\n",
    "url =\"https://www.theverge.com/archives/ai-artificial-intelligence/2018/4\"\n",
    "response = requests.get(url)\n",
    "soup = BeautifulSoup(response.text,'lxml')\n",
    "urls = soup.find_all(\"a\")\n",
    "year = 2016\n",
    "for url in urls:\n",
    "    try:\n",
    "        print(url[\"href\"])\n",
    "        if url[\"href\"] == \"https://www.theverge.com/archives/ai-artificial-intelligence/\"+str(year)+\"/1\":\n",
    "            print(\"worked\")\n",
    "    \n",
    "    except KeyError:\n",
    "        continue"
   ]
  },
  {
   "cell_type": "code",
   "execution_count": null,
   "metadata": {},
   "outputs": [],
   "source": [
    "import requests\n",
    "from bs4 import BeautifulSoup\n",
    "def scrape(url,year,month,htmlContent):\n",
    "    if htmlContent == False:\n",
    "      response = requests.get(url)\n",
    "      soup = BeautifulSoup(response.text,'lxml')\n",
    "    else:\n",
    "        soup = BeautifulSoup(url,\"lxml\")\n",
    "    urls = soup.find_all(\"a\")\n",
    "    urlList = []\n",
    "    go= False\n",
    "    ignoreList = [\"authors\",\"archives\"]\n",
    "    for url in urls:\n",
    "        try:\n",
    "            link = url[\"href\"]\n",
    "        except KeyError:\n",
    "            continue\n",
    "        if link == \"https://www.theverge.com/archives/ai-artificial-intelligence/\"+str(year)+\"/1\":\n",
    "            go = True\n",
    "            continue\n",
    "        if link == \"https://www.voxmedia.com/legal/terms-of-use\":\n",
    "             break\n",
    "        if go == True:\n",
    "            if link!= \"/\" and link.split(\"https://www.theverge.com/\")[1].split(\"/\")[0] not in ignoreList:\n",
    "                urlList.append(link)\n",
    "                #print(urlList[-1])\n",
    "    return urlList\n",
    "outList = []\n",
    "counter = 0\n",
    "\n",
    "for i in range(2016,2023):\n",
    "    for k in range(1,13):\n",
    "        print(i,k)\n",
    "        url = \"https://www.theverge.com/archives/ai-artificial-intelligence/\"+str(i)+\"/\"+str(k)\n",
    "        output = scrape(url,i,k,False)\n",
    "        outList.extend(output)\n",
    "import os\n",
    "directory = \"YOUR DIRECTORY HERE\"\n",
    "for name in os.listdir(directory):\n",
    "  with open(os.path.join(directory,name),encoding=\"utf8\") as f:\n",
    "    content = f.read()\n",
    "    year = name.split(\".\")[0]\n",
    "    month = name.split(\".\")[1].split(\".\")[0]\n",
    "    print(year,month)\n",
    "    output = scrape(content,year,month,True)\n",
    "    outList.extend(output)\n",
    "\n",
    "print(len(outList))\n"
   ]
  }
 ],
 "metadata": {
  "kernelspec": {
   "display_name": "Python 3",
   "language": "python",
   "name": "python3"
  },
  "language_info": {
   "codemirror_mode": {
    "name": "ipython",
    "version": 3
   },
   "file_extension": ".py",
   "mimetype": "text/x-python",
   "name": "python",
   "nbconvert_exporter": "python",
   "pygments_lexer": "ipython3",
   "version": "3.11.9"
  }
 },
 "nbformat": 4,
 "nbformat_minor": 2
}
