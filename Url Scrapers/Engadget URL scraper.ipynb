{
 "cells": [
  {
   "cell_type": "code",
   "execution_count": null,
   "metadata": {},
   "outputs": [],
   "source": [
    "import requests\n",
    "from bs4 import BeautifulSoup\n",
    "urlList = []\n",
    "for i in range(1,127):\n",
    "    url  = \"https://www.engadget.com/ai/page/\"+str(i)+\"/\"\n",
    "    response = requests.get(url)\n",
    "    soup = BeautifulSoup(response.text,'html.parser')\n",
    "    urls = soup.find_all(\"a\")\n",
    "    counter = 0\n",
    "    check1 = False\n",
    "    go = False\n",
    "    currentList = []\n",
    "    tempList = []\n",
    "    for url in urls:\n",
    "        try:\n",
    "            line = url[\"href\"]\n",
    "            if line==\"/amazon-prime-day/\" and check1 == False and go == False:\n",
    "                check1 = True\n",
    "            if check1 == True and line==\"https://oidc.engadget.com/login?dest=https%3A%2F%2Fwww.engadget.com&pspid=1197802876&activity=header\":\n",
    "                go = True\n",
    "                continue\n",
    "            elif check1==True:\n",
    "                check1 == False\n",
    "            if line ==\"https://www.engadget.com/ai/\" or line==\"https://www.engadget.com/ai/page/\"+str(i-1)+\"/\":\n",
    "                break\n",
    "            if go == True and line.split(\"/\")[1].split(\"/\")[0]!=\"about\" :\n",
    "                currentList.append(\"https://www.engadget.com\"+line)\n",
    "        except Exception:\n",
    "            continue\n",
    "    for k in range(0,len(currentList),2):\n",
    "        tempList.append(currentList[k])\n",
    "    print(i,len(tempList))\n",
    "    print(currentList[-1])\n",
    "    urlList.extend(tempList)"
   ]
  }
 ],
 "metadata": {
  "kernelspec": {
   "display_name": "Python 3",
   "language": "python",
   "name": "python3"
  },
  "language_info": {
   "codemirror_mode": {
    "name": "ipython",
    "version": 3
   },
   "file_extension": ".py",
   "mimetype": "text/x-python",
   "name": "python",
   "nbconvert_exporter": "python",
   "pygments_lexer": "ipython3",
   "version": "3.11.9"
  }
 },
 "nbformat": 4,
 "nbformat_minor": 2
}
