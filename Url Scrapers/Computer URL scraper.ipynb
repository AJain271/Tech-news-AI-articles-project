{
 "cells": [
  {
   "cell_type": "code",
   "execution_count": null,
   "metadata": {},
   "outputs": [],
   "source": [
    "import requests\n",
    "from bs4 import BeautifulSoup\n",
    "urlList = []\n",
    "for i in range(2,160):\n",
    "    \n",
    "    url = \"https://www.computerworld.com/artificial-intelligence/page/\"+str(i)+\"/\"\n",
    "    response = requests.get(url)\n",
    "    soup = BeautifulSoup(response.text,'html.parser')\n",
    "    urls = soup.find_all(\"a\")\n",
    "    currentList = []\n",
    "    go = False\n",
    "    pastArticle = \"\"\n",
    "    for url in urls:\n",
    "        try:\n",
    "            line = url[\"href\"]\n",
    "            if line ==\"https://www.computerworld.com/artificial-intelligence/filter/tips/\":\n",
    "                go = True\n",
    "                continue\n",
    "            if go==True and line==\"https://www.computerworld.com/artificial-intelligence/\":\n",
    "                break\n",
    "            if go == True and line.split(\"https://www.computerworld.com/\")[1].split(\"/\")[0]==\"article\" and line!=pastArticle and \"computerworld.com\" in line:\n",
    "                #print(line)\n",
    "                pastArticle = line\n",
    "                currentList.append(line)\n",
    "        except Exception:\n",
    "            continue\n",
    "    urlList.extend(currentList)\n",
    "    print(i,len(currentList))\n",
    "\n"
   ]
  }
 ],
 "metadata": {
  "kernelspec": {
   "display_name": "Python 3",
   "language": "python",
   "name": "python3"
  },
  "language_info": {
   "codemirror_mode": {
    "name": "ipython",
    "version": 3
   },
   "file_extension": ".py",
   "mimetype": "text/x-python",
   "name": "python",
   "nbconvert_exporter": "python",
   "pygments_lexer": "ipython3",
   "version": "3.11.9"
  }
 },
 "nbformat": 4,
 "nbformat_minor": 2
}
