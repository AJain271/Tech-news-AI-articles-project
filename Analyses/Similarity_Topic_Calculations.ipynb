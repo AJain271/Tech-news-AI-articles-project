{
 "cells": [
  {
   "cell_type": "code",
   "execution_count": null,
   "metadata": {},
   "outputs": [],
   "source": [
    "import torch\n",
    "from transformers import BertTokenizer, BertModel\n",
    "from sklearn.metrics.pairwise import cosine_similarity\n",
    "import pandas as pd"
   ]
  },
  {
   "cell_type": "code",
   "execution_count": null,
   "metadata": {},
   "outputs": [],
   "source": [
    "tokenizer = BertTokenizer.from_pretrained('bert-base-uncased')\n",
    "model = BertModel.from_pretrained('bert-base-uncased')\n",
    "class comparePeriods:\n",
    "    def __init__(self,model_name='bert-base-uncased'):\n",
    "        self.tokenizer = BertTokenizer.from_pretrained('bert-base-uncased')\n",
    "        self.model = BertModel.from_pretrained('bert-base-uncased')\n",
    "    def get_bert_embedding(self,wordlist):\n",
    "        with torch.no_grad():\n",
    "            inputs = self.tokenizer(wordlist, return_tensors='pt', padding=True, truncation=True, is_split_into_words=True)\n",
    "            outputs = self.model(**inputs)\n",
    "            hidden_states = outputs.last_hidden_state\n",
    "            mean_embedding = hidden_states.mean(dim=1)\n",
    "        return mean_embedding\n",
    "    def get_similiarty(self,list1,list2):\n",
    "        emb1 = self.get_bert_embedding(list1)\n",
    "        emb2 = self.get_bert_embedding(list2)\n",
    "        return cosine_similarity(emb1.numpy(),emb2.numpy())\n",
    "    def calculate_similarities(self,period_1,period_2):\n",
    "        similar_topics =[]\n",
    "        period_1 = pd.read_csv(\"FILE LOCATION HERE\") #Have to edit this if you want to run code\n",
    "        period_2 = pd.read_csv(\"FILE LOCATION HERE\") #Have to edit this if you want to run code\n",
    "       \n",
    "        for index, topic1 in period_1.iterrows():\n",
    "            for index_, topic2 in period_2.iterrows():\n",
    "                similarity = self.get_similiarty(eval(topic1['word_list']),eval(topic2['word_list']))\n",
    "                if similarity>0.9:\n",
    "                    similar_topics.append([topic1['topic'],topic2['topic'],similarity])\n",
    "        return similar_topics\n",
    "        \n"
   ]
  },
  {
   "cell_type": "code",
   "execution_count": null,
   "metadata": {},
   "outputs": [],
   "source": [
    "\n",
    "#Edit this to fit your needs\n",
    "comparer = comparePeriods()\n",
    "\n",
    "for i in range(1,3):\n",
    "    similar_topics = comparer.calculate_similarities(i,i+1)\n",
    "    print(f\"Periods {i} and {i+1} similar topics by cosine similarity with a threshold of 0.9\")\n",
    "    for s in similar_topics:\n",
    "        print(f\"Topic {s[0]} similar to {s[1]} with a score of {s[2]}\")"
   ]
  }
 ],
 "metadata": {
  "kernelspec": {
   "display_name": "Python 3",
   "language": "python",
   "name": "python3"
  },
  "language_info": {
   "codemirror_mode": {
    "name": "ipython",
    "version": 3
   },
   "file_extension": ".py",
   "mimetype": "text/x-python",
   "name": "python",
   "nbconvert_exporter": "python",
   "pygments_lexer": "ipython3",
   "version": "3.11.9"
  }
 },
 "nbformat": 4,
 "nbformat_minor": 2
}
